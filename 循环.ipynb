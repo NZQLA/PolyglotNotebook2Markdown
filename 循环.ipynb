{
 "cells": [
  {
   "cell_type": "markdown",
   "metadata": {},
   "source": [
    "循环可以批量处理各种事物，这就是生产力！"
   ]
  },
  {
   "cell_type": "markdown",
   "metadata": {},
   "source": [
    "# `for`循环"
   ]
  },
  {
   "cell_type": "markdown",
   "metadata": {},
   "source": [
    "## 普通循环"
   ]
  },
  {
   "cell_type": "code",
   "execution_count": null,
   "metadata": {},
   "outputs": [],
   "source": [
    "# 导入时间模块\n",
    "import time \n",
    "\n",
    "# 定义一个方法 用于打印指定的内容 但是不换行 并且覆盖之前的内容\n",
    "def printWithOutBreakToNewLine(data):\n",
    "    print(f\"\\ri = {data}\",end=\"\")\n",
    "\n",
    "# 每次打印的间隔时间\n",
    "timeWaitForPrint = 0.3"
   ]
  },
  {
   "cell_type": "code",
   "execution_count": null,
   "metadata": {},
   "outputs": [],
   "source": [
    "\n",
    "# 打印 0~9\n",
    "print(\"for i in range(10):\")\n",
    "for i in range(10):\n",
    "    # print(i)\n",
    "    time.sleep(timeWaitForPrint)\n",
    "    printWithOutBreakToNewLine(i)\n"
   ]
  },
  {
   "cell_type": "markdown",
   "metadata": {},
   "source": [
    "## 指定循环范围"
   ]
  },
  {
   "cell_type": "code",
   "execution_count": 15,
   "metadata": {},
   "outputs": [
    {
     "name": "stdout",
     "output_type": "stream",
     "text": [
      "for i in range(5, 10):\n",
      "i = 9"
     ]
    }
   ],
   "source": [
    "# 打印一个范围\n",
    "print(\"for i in range(5, 10):\")\n",
    "for i in range(5, 10):\n",
    "    # print(i)\n",
    "    time.sleep(timeWaitForPrint)\n",
    "    printWithOutBreakToNewLine(i)"
   ]
  },
  {
   "cell_type": "markdown",
   "metadata": {},
   "source": [
    "## 指定范围和步长"
   ]
  },
  {
   "cell_type": "code",
   "execution_count": 14,
   "metadata": {
    "dotnet_interactive": {
     "language": "http"
    },
    "polyglot_notebook": {
     "kernelName": "http"
    }
   },
   "outputs": [
    {
     "name": "stdout",
     "output_type": "stream",
     "text": [
      "for i in range(0, 10, 2):\n",
      "i = 8"
     ]
    }
   ],
   "source": [
    "# 打印一个范围，步长为2\n",
    "print(\"for i in range(0, 10, 2):\")\n",
    "for i in range(0, 10, 2):\n",
    "    # print(i)\n",
    "    time.sleep(timeWaitForPrint)\n",
    "    printWithOutBreakToNewLine(i)"
   ]
  },
  {
   "cell_type": "markdown",
   "metadata": {},
   "source": [
    "# `While`循环"
   ]
  },
  {
   "cell_type": "code",
   "execution_count": null,
   "metadata": {},
   "outputs": [],
   "source": [
    "\n",
    "# 使用 while 循环\n",
    "index =0\n",
    "while index < 10:\n",
    "    # print(index)\n",
    "    time.sleep(timeWaitForPrint)\n",
    "    printWithOutBreakToNewLine(index)\n",
    "    index += 1\n"
   ]
  }
 ],
 "metadata": {
  "kernelspec": {
   "display_name": "Python 3",
   "language": "python",
   "name": "python3"
  },
  "language_info": {
   "codemirror_mode": {
    "name": "ipython",
    "version": 3
   },
   "file_extension": ".py",
   "mimetype": "text/x-python",
   "name": "python",
   "nbconvert_exporter": "python",
   "pygments_lexer": "ipython3",
   "version": "3.13.2"
  },
  "polyglot_notebook": {
   "kernelInfo": {
    "defaultKernelName": "csharp",
    "items": [
     {
      "aliases": [],
      "name": "csharp"
     }
    ]
   }
  }
 },
 "nbformat": 4,
 "nbformat_minor": 2
}
