{
 "cells": [
  {
   "cell_type": "markdown",
   "metadata": {},
   "source": [
    "# 绘制一个从0涨到100的进度条"
   ]
  },
  {
   "cell_type": "code",
   "execution_count": 7,
   "metadata": {},
   "outputs": [],
   "source": [
    "# 当前比例(0~100)\n",
    "percentCurrent = 0\n",
    "\n",
    "# 每次增加的时间间隔\n",
    "timeWaitForAdd =0.1\n",
    "# 每次增加的比例\n",
    "percentAddEeveryTime = 1"
   ]
  },
  {
   "cell_type": "code",
   "execution_count": 8,
   "metadata": {},
   "outputs": [
    {
     "name": "stdout",
     "output_type": "stream",
     "text": [
      "当前比例: 100"
     ]
    }
   ],
   "source": [
    "import time\n",
    "\n",
    "# 模拟从0 涨到100 ,每次增加1，每次间隔时间可以调整\n",
    "while percentCurrent < 100:\n",
    "    percentCurrent += percentAddEeveryTime\n",
    "    # 打印当前比例 / 每次清空之前打印的比例\n",
    "    print(\"\\r当前比例: %d\" % percentCurrent, end=\"\")\n",
    "    # print(\"当前比例: %d\" % percentCurrent)\n",
    "    time.sleep(timeWaitForAdd)"
   ]
  }
 ],
 "metadata": {
  "kernelspec": {
   "display_name": "Python 3",
   "language": "python",
   "name": "python3"
  },
  "language_info": {
   "codemirror_mode": {
    "name": "ipython",
    "version": 3
   },
   "file_extension": ".py",
   "mimetype": "text/x-python",
   "name": "python",
   "nbconvert_exporter": "python",
   "pygments_lexer": "ipython3",
   "version": "3.12.1"
  },
  "polyglot_notebook": {
   "kernelInfo": {
    "defaultKernelName": "csharp",
    "items": [
     {
      "aliases": [],
      "name": "csharp"
     }
    ]
   }
  }
 },
 "nbformat": 4,
 "nbformat_minor": 2
}
